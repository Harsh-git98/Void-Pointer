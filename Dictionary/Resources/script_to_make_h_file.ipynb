{
  "nbformat": 4,
  "nbformat_minor": 0,
  "metadata": {
    "colab": {
      "provenance": []
    },
    "kernelspec": {
      "name": "python3",
      "display_name": "Python 3"
    },
    "language_info": {
      "name": "python"
    }
  },
  "cells": [
    {
      "cell_type": "code",
      "execution_count": 7,
      "metadata": {
        "colab": {
          "base_uri": "https://localhost:8080/"
        },
        "id": "li9uC8vdbc5G",
        "outputId": "e689e8d6-fef6-41e1-97df-40360215eab2"
      },
      "outputs": [
        {
          "output_type": "stream",
          "name": "stdout",
          "text": [
            "✅ 'dictionary_data.h' with C-style literals generated.\n"
          ]
        }
      ],
      "source": [
        "import pandas as pd\n",
        "import re\n",
        "from collections import defaultdict\n",
        "\n",
        "# Load the CSV\n",
        "df = pd.read_csv(\"dictionary.csv\")\n",
        "\n",
        "# Filter single lowercase words\n",
        "def is_single_lowercase_word(word):\n",
        "    return bool(re.fullmatch(r\"[a-z]+\", str(word).lower()))\n",
        "\n",
        "df['Word'] = df['Word'].astype(str)\n",
        "df = df[df['Word'].apply(is_single_lowercase_word)]\n",
        "\n",
        "# Collect word-meaning map\n",
        "word_meaning_map = defaultdict(list)\n",
        "for _, row in df.iterrows():\n",
        "    word = row['Word'].strip().lower()\n",
        "    meaning = str(row['Definition']).strip().lower()\n",
        "    word_meaning_map[word].append(meaning)\n",
        "\n",
        "# Escape for C++\n",
        "def cpp_escape(s):\n",
        "    return s.replace('\\\\', '\\\\\\\\').replace('\"', '\\\\\"').replace('\\n', '\\\\n')\n",
        "\n",
        "# Generate header lines\n",
        "lines = []\n",
        "lines.append(\"#ifndef DICTIONARY_DATA_H\")\n",
        "lines.append(\"#define DICTIONARY_DATA_H\\n\")\n",
        "lines.append(\"struct Entry {\")\n",
        "lines.append(\"    const char* word;\")\n",
        "lines.append(\"    const char* meaning;\")\n",
        "lines.append(\"};\\n\")\n",
        "lines.append(\"static const Entry dictionary_entries[] = {\")\n",
        "\n",
        "for word, meanings in word_meaning_map.items():\n",
        "    # Join meanings with a separator that includes a newline for C++ output\n",
        "    joined = \"\\\\n\".join(meanings)\n",
        "    lines.append(f'    {{\"{cpp_escape(word)}\", \"{cpp_escape(joined)}\"}},')\n",
        "\n",
        "lines.append(\"};\\n\")\n",
        "lines.append(\"static const int dictionary_size = sizeof(dictionary_entries) / sizeof(dictionary_entries[0]);\\n\")\n",
        "lines.append(\"#endif // DICTIONARY_DATA_H\")\n",
        "\n",
        "# Write to file\n",
        "with open(\"dictionary_data.h\", \"w\", encoding=\"utf-8\") as f:\n",
        "    f.write(\"\\n\".join(lines))\n",
        "\n",
        "print(\"✅ 'dictionary_data.h' with C-style literals generated.\")"
      ]
    },
    {
      "cell_type": "code",
      "source": [],
      "metadata": {
        "id": "hMiAVCB-c2Br"
      },
      "execution_count": null,
      "outputs": []
    }
  ]
}